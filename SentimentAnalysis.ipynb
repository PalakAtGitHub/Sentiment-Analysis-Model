{
  "cells": [
    {
      "cell_type": "code",
      "execution_count": null,
      "metadata": {
        "colab": {
          "base_uri": "https://localhost:8080/"
        },
        "id": "kahd2jP7T-f-",
        "outputId": "3a54c6bd-6130-49f9-b6ac-e467702af5a6"
      },
      "outputs": [
        {
          "output_type": "stream",
          "name": "stdout",
          "text": [
            "cp: cannot stat 'kaggle.json': No such file or directory\n",
            "chmod: cannot access '/root/.kaggle/kaggle.json': No such file or directory\n"
          ]
        }
      ],
      "source": [
        "!mkdir -p ~/.kaggle\n",
        "!cp kaggle.json ~/.kaggle/\n",
        "!chmod 600 ~/.kaggle/kaggle.json"
      ]
    },
    {
      "cell_type": "code",
      "execution_count": null,
      "metadata": {
        "colab": {
          "base_uri": "https://localhost:8080/"
        },
        "id": "tjFvFcYqUD2b",
        "outputId": "bebae530-29db-4ce0-f35f-81fd236b6d0e"
      },
      "outputs": [
        {
          "output_type": "stream",
          "name": "stdout",
          "text": [
            "Dataset URL: https://www.kaggle.com/datasets/kazanova/sentiment140\n",
            "License(s): other\n",
            "sentiment140.zip: Skipping, found more recently modified local copy (use --force to force download)\n"
          ]
        }
      ],
      "source": [
        "!kaggle datasets download -d kazanova/sentiment140"
      ]
    },
    {
      "cell_type": "code",
      "execution_count": null,
      "metadata": {
        "colab": {
          "base_uri": "https://localhost:8080/"
        },
        "id": "xX56sp1nV49g",
        "outputId": "43e23390-bb42-47ed-ffec-189954961a93"
      },
      "outputs": [
        {
          "output_type": "stream",
          "name": "stdout",
          "text": [
            "Done\n"
          ]
        }
      ],
      "source": [
        "from zipfile import ZipFile\n",
        "dataset = '/content/sentiment140.zip'\n",
        "\n",
        "with ZipFile(dataset, 'r') as zip :\n",
        "  zip.extractall()\n",
        "  print('Done')"
      ]
    },
    {
      "cell_type": "code",
      "execution_count": null,
      "metadata": {
        "id": "yZiBmmpJV-Dc"
      },
      "outputs": [],
      "source": [
        "from nltk.corpus import stopwords\n",
        "from nltk.stem.porter import PorterStemmer\n",
        "from sklearn.feature_extraction.text import TfidfVectorizer\n",
        "from sklearn.model_selection import train_test_split\n",
        "from sklearn.linear_model import LogisticRegression\n",
        "from sklearn.metrics import accuracy_score"
      ]
    },
    {
      "cell_type": "code",
      "execution_count": null,
      "metadata": {
        "colab": {
          "base_uri": "https://localhost:8080/"
        },
        "id": "h0Lt5wijWAGn",
        "outputId": "ed0c6c81-4b53-4f03-e1dd-837bb87eed6f"
      },
      "outputs": [
        {
          "output_type": "stream",
          "name": "stderr",
          "text": [
            "[nltk_data] Downloading package stopwords to /root/nltk_data...\n",
            "[nltk_data]   Package stopwords is already up-to-date!\n"
          ]
        },
        {
          "output_type": "execute_result",
          "data": {
            "text/plain": [
              "True"
            ]
          },
          "metadata": {},
          "execution_count": 49
        }
      ],
      "source": [
        "import nltk # natural language toolkit\n",
        "nltk.download('stopwords')"
      ]
    },
    {
      "cell_type": "code",
      "execution_count": null,
      "metadata": {
        "colab": {
          "base_uri": "https://localhost:8080/"
        },
        "id": "GKV0HM-nWCGB",
        "outputId": "151740f5-f85d-4bf3-931e-e7b3f7fc11ec"
      },
      "outputs": [
        {
          "output_type": "stream",
          "name": "stdout",
          "text": [
            "['i', 'me', 'my', 'myself', 'we', 'our', 'ours', 'ourselves', 'you', \"you're\", \"you've\", \"you'll\", \"you'd\", 'your', 'yours', 'yourself', 'yourselves', 'he', 'him', 'his', 'himself', 'she', \"she's\", 'her', 'hers', 'herself', 'it', \"it's\", 'its', 'itself', 'they', 'them', 'their', 'theirs', 'themselves', 'what', 'which', 'who', 'whom', 'this', 'that', \"that'll\", 'these', 'those', 'am', 'is', 'are', 'was', 'were', 'be', 'been', 'being', 'have', 'has', 'had', 'having', 'do', 'does', 'did', 'doing', 'a', 'an', 'the', 'and', 'but', 'if', 'or', 'because', 'as', 'until', 'while', 'of', 'at', 'by', 'for', 'with', 'about', 'against', 'between', 'into', 'through', 'during', 'before', 'after', 'above', 'below', 'to', 'from', 'up', 'down', 'in', 'out', 'on', 'off', 'over', 'under', 'again', 'further', 'then', 'once', 'here', 'there', 'when', 'where', 'why', 'how', 'all', 'any', 'both', 'each', 'few', 'more', 'most', 'other', 'some', 'such', 'no', 'nor', 'not', 'only', 'own', 'same', 'so', 'than', 'too', 'very', 's', 't', 'can', 'will', 'just', 'don', \"don't\", 'should', \"should've\", 'now', 'd', 'll', 'm', 'o', 're', 've', 'y', 'ain', 'aren', \"aren't\", 'couldn', \"couldn't\", 'didn', \"didn't\", 'doesn', \"doesn't\", 'hadn', \"hadn't\", 'hasn', \"hasn't\", 'haven', \"haven't\", 'isn', \"isn't\", 'ma', 'mightn', \"mightn't\", 'mustn', \"mustn't\", 'needn', \"needn't\", 'shan', \"shan't\", 'shouldn', \"shouldn't\", 'wasn', \"wasn't\", 'weren', \"weren't\", 'won', \"won't\", 'wouldn', \"wouldn't\"]\n"
          ]
        }
      ],
      "source": [
        "print(stopwords.words(\"english\"))"
      ]
    },
    {
      "cell_type": "code",
      "execution_count": null,
      "metadata": {
        "id": "p-0vSmcIWE22"
      },
      "outputs": [],
      "source": [
        "import numpy as np\n",
        "import pandas as pd\n",
        "import re"
      ]
    },
    {
      "cell_type": "markdown",
      "metadata": {
        "id": "6a0CNkgBXmBg"
      },
      "source": [
        "Data Processing"
      ]
    },
    {
      "cell_type": "code",
      "execution_count": null,
      "metadata": {
        "id": "fDY8Z2y6XnU6"
      },
      "outputs": [],
      "source": [
        "#load data from csv to pandas\n",
        "data = pd.read_csv('/content/training.1600000.processed.noemoticon.csv', encoding = 'ISO-8859-1')"
      ]
    },
    {
      "cell_type": "code",
      "execution_count": null,
      "metadata": {
        "colab": {
          "base_uri": "https://localhost:8080/"
        },
        "id": "3e4uT7WXX0Rj",
        "outputId": "dbeae21d-ceb3-470e-f04b-ab6de08d371f"
      },
      "outputs": [
        {
          "output_type": "execute_result",
          "data": {
            "text/plain": [
              "(1599999, 6)"
            ]
          },
          "metadata": {},
          "execution_count": 53
        }
      ],
      "source": [
        "# checking the number of rows and columns\n",
        "data.shape"
      ]
    },
    {
      "cell_type": "code",
      "execution_count": null,
      "metadata": {
        "colab": {
          "base_uri": "https://localhost:8080/",
          "height": 554
        },
        "id": "EWvnvlTxX8Cl",
        "outputId": "0be6aea5-e93b-4987-bfa4-d69b6ddcde94"
      },
      "outputs": [
        {
          "output_type": "execute_result",
          "data": {
            "text/plain": [
              "         0  1467810369  Mon Apr 06 22:19:45 PDT 2009  NO_QUERY  \\\n",
              "1334209  4  2016640105  Wed Jun 03 07:07:08 PDT 2009  NO_QUERY   \n",
              "531710   0  2196425294  Tue Jun 16 12:27:22 PDT 2009  NO_QUERY   \n",
              "1162835  4  1979622198  Sun May 31 03:50:22 PDT 2009  NO_QUERY   \n",
              "122296   0  1833682824  Mon May 18 00:05:39 PDT 2009  NO_QUERY   \n",
              "781469   0  2323427075  Thu Jun 25 00:37:05 PDT 2009  NO_QUERY   \n",
              "646820   0  2236604690  Fri Jun 19 04:06:52 PDT 2009  NO_QUERY   \n",
              "1474463  4  2065732834  Sun Jun 07 09:11:00 PDT 2009  NO_QUERY   \n",
              "138000   0  1880454879  Fri May 22 01:18:09 PDT 2009  NO_QUERY   \n",
              "1253552  4  1996917703  Mon Jun 01 15:55:36 PDT 2009  NO_QUERY   \n",
              "5570     0  1469123927  Tue Apr 07 05:17:48 PDT 2009  NO_QUERY   \n",
              "\n",
              "        _TheSpecialOne_  \\\n",
              "1334209         peretaj   \n",
              "531710        NoreenDee   \n",
              "1162835          bwness   \n",
              "122296    sarahtheissen   \n",
              "781469         mikecono   \n",
              "646820   felicityfuller   \n",
              "1474463        pea12nut   \n",
              "138000   alannahwastell   \n",
              "1253552      krizzzle27   \n",
              "5570           jess_roz   \n",
              "\n",
              "        @switchfoot http://twitpic.com/2y1zl - Awww, that's a bummer.  You shoulda got David Carr of Third Day to do it. ;D  \n",
              "1334209  Ahhh takin' a break from work it's feels so go...                                                                   \n",
              "531710   I'm actually thinking of marching to my neares...                                                                   \n",
              "1162835  Got some AWESOME paint markers from mom! GREAT...                                                                   \n",
              "122296            @Austin_Irl  Have a safe trip anyways...                                                                   \n",
              "781469   Sad right now...  Maybe I do have a heart and ...                                                                   \n",
              "646820   @Orchidflower yes it would be - she'd taken th...                                                                   \n",
              "1474463  wants to be a professional poker player!!! and...                                                                   \n",
              "138000   still sick  cant breathe through nose  oh why ...                                                                   \n",
              "1253552  i hate finals. but im sooooo glad im getting m...                                                                   \n",
              "5570     random thoughts pt 3 of 3: i'm onto season 3 o...                                                                   "
            ],
            "text/html": [
              "\n",
              "  <div id=\"df-3af82190-0728-4112-9a1c-7eac52790514\" class=\"colab-df-container\">\n",
              "    <div>\n",
              "<style scoped>\n",
              "    .dataframe tbody tr th:only-of-type {\n",
              "        vertical-align: middle;\n",
              "    }\n",
              "\n",
              "    .dataframe tbody tr th {\n",
              "        vertical-align: top;\n",
              "    }\n",
              "\n",
              "    .dataframe thead th {\n",
              "        text-align: right;\n",
              "    }\n",
              "</style>\n",
              "<table border=\"1\" class=\"dataframe\">\n",
              "  <thead>\n",
              "    <tr style=\"text-align: right;\">\n",
              "      <th></th>\n",
              "      <th>0</th>\n",
              "      <th>1467810369</th>\n",
              "      <th>Mon Apr 06 22:19:45 PDT 2009</th>\n",
              "      <th>NO_QUERY</th>\n",
              "      <th>_TheSpecialOne_</th>\n",
              "      <th>@switchfoot http://twitpic.com/2y1zl - Awww, that's a bummer.  You shoulda got David Carr of Third Day to do it. ;D</th>\n",
              "    </tr>\n",
              "  </thead>\n",
              "  <tbody>\n",
              "    <tr>\n",
              "      <th>1334209</th>\n",
              "      <td>4</td>\n",
              "      <td>2016640105</td>\n",
              "      <td>Wed Jun 03 07:07:08 PDT 2009</td>\n",
              "      <td>NO_QUERY</td>\n",
              "      <td>peretaj</td>\n",
              "      <td>Ahhh takin' a break from work it's feels so go...</td>\n",
              "    </tr>\n",
              "    <tr>\n",
              "      <th>531710</th>\n",
              "      <td>0</td>\n",
              "      <td>2196425294</td>\n",
              "      <td>Tue Jun 16 12:27:22 PDT 2009</td>\n",
              "      <td>NO_QUERY</td>\n",
              "      <td>NoreenDee</td>\n",
              "      <td>I'm actually thinking of marching to my neares...</td>\n",
              "    </tr>\n",
              "    <tr>\n",
              "      <th>1162835</th>\n",
              "      <td>4</td>\n",
              "      <td>1979622198</td>\n",
              "      <td>Sun May 31 03:50:22 PDT 2009</td>\n",
              "      <td>NO_QUERY</td>\n",
              "      <td>bwness</td>\n",
              "      <td>Got some AWESOME paint markers from mom! GREAT...</td>\n",
              "    </tr>\n",
              "    <tr>\n",
              "      <th>122296</th>\n",
              "      <td>0</td>\n",
              "      <td>1833682824</td>\n",
              "      <td>Mon May 18 00:05:39 PDT 2009</td>\n",
              "      <td>NO_QUERY</td>\n",
              "      <td>sarahtheissen</td>\n",
              "      <td>@Austin_Irl  Have a safe trip anyways...</td>\n",
              "    </tr>\n",
              "    <tr>\n",
              "      <th>781469</th>\n",
              "      <td>0</td>\n",
              "      <td>2323427075</td>\n",
              "      <td>Thu Jun 25 00:37:05 PDT 2009</td>\n",
              "      <td>NO_QUERY</td>\n",
              "      <td>mikecono</td>\n",
              "      <td>Sad right now...  Maybe I do have a heart and ...</td>\n",
              "    </tr>\n",
              "    <tr>\n",
              "      <th>646820</th>\n",
              "      <td>0</td>\n",
              "      <td>2236604690</td>\n",
              "      <td>Fri Jun 19 04:06:52 PDT 2009</td>\n",
              "      <td>NO_QUERY</td>\n",
              "      <td>felicityfuller</td>\n",
              "      <td>@Orchidflower yes it would be - she'd taken th...</td>\n",
              "    </tr>\n",
              "    <tr>\n",
              "      <th>1474463</th>\n",
              "      <td>4</td>\n",
              "      <td>2065732834</td>\n",
              "      <td>Sun Jun 07 09:11:00 PDT 2009</td>\n",
              "      <td>NO_QUERY</td>\n",
              "      <td>pea12nut</td>\n",
              "      <td>wants to be a professional poker player!!! and...</td>\n",
              "    </tr>\n",
              "    <tr>\n",
              "      <th>138000</th>\n",
              "      <td>0</td>\n",
              "      <td>1880454879</td>\n",
              "      <td>Fri May 22 01:18:09 PDT 2009</td>\n",
              "      <td>NO_QUERY</td>\n",
              "      <td>alannahwastell</td>\n",
              "      <td>still sick  cant breathe through nose  oh why ...</td>\n",
              "    </tr>\n",
              "    <tr>\n",
              "      <th>1253552</th>\n",
              "      <td>4</td>\n",
              "      <td>1996917703</td>\n",
              "      <td>Mon Jun 01 15:55:36 PDT 2009</td>\n",
              "      <td>NO_QUERY</td>\n",
              "      <td>krizzzle27</td>\n",
              "      <td>i hate finals. but im sooooo glad im getting m...</td>\n",
              "    </tr>\n",
              "    <tr>\n",
              "      <th>5570</th>\n",
              "      <td>0</td>\n",
              "      <td>1469123927</td>\n",
              "      <td>Tue Apr 07 05:17:48 PDT 2009</td>\n",
              "      <td>NO_QUERY</td>\n",
              "      <td>jess_roz</td>\n",
              "      <td>random thoughts pt 3 of 3: i'm onto season 3 o...</td>\n",
              "    </tr>\n",
              "  </tbody>\n",
              "</table>\n",
              "</div>\n",
              "    <div class=\"colab-df-buttons\">\n",
              "\n",
              "  <div class=\"colab-df-container\">\n",
              "    <button class=\"colab-df-convert\" onclick=\"convertToInteractive('df-3af82190-0728-4112-9a1c-7eac52790514')\"\n",
              "            title=\"Convert this dataframe to an interactive table.\"\n",
              "            style=\"display:none;\">\n",
              "\n",
              "  <svg xmlns=\"http://www.w3.org/2000/svg\" height=\"24px\" viewBox=\"0 -960 960 960\">\n",
              "    <path d=\"M120-120v-720h720v720H120Zm60-500h600v-160H180v160Zm220 220h160v-160H400v160Zm0 220h160v-160H400v160ZM180-400h160v-160H180v160Zm440 0h160v-160H620v160ZM180-180h160v-160H180v160Zm440 0h160v-160H620v160Z\"/>\n",
              "  </svg>\n",
              "    </button>\n",
              "\n",
              "  <style>\n",
              "    .colab-df-container {\n",
              "      display:flex;\n",
              "      gap: 12px;\n",
              "    }\n",
              "\n",
              "    .colab-df-convert {\n",
              "      background-color: #E8F0FE;\n",
              "      border: none;\n",
              "      border-radius: 50%;\n",
              "      cursor: pointer;\n",
              "      display: none;\n",
              "      fill: #1967D2;\n",
              "      height: 32px;\n",
              "      padding: 0 0 0 0;\n",
              "      width: 32px;\n",
              "    }\n",
              "\n",
              "    .colab-df-convert:hover {\n",
              "      background-color: #E2EBFA;\n",
              "      box-shadow: 0px 1px 2px rgba(60, 64, 67, 0.3), 0px 1px 3px 1px rgba(60, 64, 67, 0.15);\n",
              "      fill: #174EA6;\n",
              "    }\n",
              "\n",
              "    .colab-df-buttons div {\n",
              "      margin-bottom: 4px;\n",
              "    }\n",
              "\n",
              "    [theme=dark] .colab-df-convert {\n",
              "      background-color: #3B4455;\n",
              "      fill: #D2E3FC;\n",
              "    }\n",
              "\n",
              "    [theme=dark] .colab-df-convert:hover {\n",
              "      background-color: #434B5C;\n",
              "      box-shadow: 0px 1px 3px 1px rgba(0, 0, 0, 0.15);\n",
              "      filter: drop-shadow(0px 1px 2px rgba(0, 0, 0, 0.3));\n",
              "      fill: #FFFFFF;\n",
              "    }\n",
              "  </style>\n",
              "\n",
              "    <script>\n",
              "      const buttonEl =\n",
              "        document.querySelector('#df-3af82190-0728-4112-9a1c-7eac52790514 button.colab-df-convert');\n",
              "      buttonEl.style.display =\n",
              "        google.colab.kernel.accessAllowed ? 'block' : 'none';\n",
              "\n",
              "      async function convertToInteractive(key) {\n",
              "        const element = document.querySelector('#df-3af82190-0728-4112-9a1c-7eac52790514');\n",
              "        const dataTable =\n",
              "          await google.colab.kernel.invokeFunction('convertToInteractive',\n",
              "                                                    [key], {});\n",
              "        if (!dataTable) return;\n",
              "\n",
              "        const docLinkHtml = 'Like what you see? Visit the ' +\n",
              "          '<a target=\"_blank\" href=https://colab.research.google.com/notebooks/data_table.ipynb>data table notebook</a>'\n",
              "          + ' to learn more about interactive tables.';\n",
              "        element.innerHTML = '';\n",
              "        dataTable['output_type'] = 'display_data';\n",
              "        await google.colab.output.renderOutput(dataTable, element);\n",
              "        const docLink = document.createElement('div');\n",
              "        docLink.innerHTML = docLinkHtml;\n",
              "        element.appendChild(docLink);\n",
              "      }\n",
              "    </script>\n",
              "  </div>\n",
              "\n",
              "\n",
              "<div id=\"df-ef1cbc0c-8353-449c-a056-e00d6965d344\">\n",
              "  <button class=\"colab-df-quickchart\" onclick=\"quickchart('df-ef1cbc0c-8353-449c-a056-e00d6965d344')\"\n",
              "            title=\"Suggest charts\"\n",
              "            style=\"display:none;\">\n",
              "\n",
              "<svg xmlns=\"http://www.w3.org/2000/svg\" height=\"24px\"viewBox=\"0 0 24 24\"\n",
              "     width=\"24px\">\n",
              "    <g>\n",
              "        <path d=\"M19 3H5c-1.1 0-2 .9-2 2v14c0 1.1.9 2 2 2h14c1.1 0 2-.9 2-2V5c0-1.1-.9-2-2-2zM9 17H7v-7h2v7zm4 0h-2V7h2v10zm4 0h-2v-4h2v4z\"/>\n",
              "    </g>\n",
              "</svg>\n",
              "  </button>\n",
              "\n",
              "<style>\n",
              "  .colab-df-quickchart {\n",
              "      --bg-color: #E8F0FE;\n",
              "      --fill-color: #1967D2;\n",
              "      --hover-bg-color: #E2EBFA;\n",
              "      --hover-fill-color: #174EA6;\n",
              "      --disabled-fill-color: #AAA;\n",
              "      --disabled-bg-color: #DDD;\n",
              "  }\n",
              "\n",
              "  [theme=dark] .colab-df-quickchart {\n",
              "      --bg-color: #3B4455;\n",
              "      --fill-color: #D2E3FC;\n",
              "      --hover-bg-color: #434B5C;\n",
              "      --hover-fill-color: #FFFFFF;\n",
              "      --disabled-bg-color: #3B4455;\n",
              "      --disabled-fill-color: #666;\n",
              "  }\n",
              "\n",
              "  .colab-df-quickchart {\n",
              "    background-color: var(--bg-color);\n",
              "    border: none;\n",
              "    border-radius: 50%;\n",
              "    cursor: pointer;\n",
              "    display: none;\n",
              "    fill: var(--fill-color);\n",
              "    height: 32px;\n",
              "    padding: 0;\n",
              "    width: 32px;\n",
              "  }\n",
              "\n",
              "  .colab-df-quickchart:hover {\n",
              "    background-color: var(--hover-bg-color);\n",
              "    box-shadow: 0 1px 2px rgba(60, 64, 67, 0.3), 0 1px 3px 1px rgba(60, 64, 67, 0.15);\n",
              "    fill: var(--button-hover-fill-color);\n",
              "  }\n",
              "\n",
              "  .colab-df-quickchart-complete:disabled,\n",
              "  .colab-df-quickchart-complete:disabled:hover {\n",
              "    background-color: var(--disabled-bg-color);\n",
              "    fill: var(--disabled-fill-color);\n",
              "    box-shadow: none;\n",
              "  }\n",
              "\n",
              "  .colab-df-spinner {\n",
              "    border: 2px solid var(--fill-color);\n",
              "    border-color: transparent;\n",
              "    border-bottom-color: var(--fill-color);\n",
              "    animation:\n",
              "      spin 1s steps(1) infinite;\n",
              "  }\n",
              "\n",
              "  @keyframes spin {\n",
              "    0% {\n",
              "      border-color: transparent;\n",
              "      border-bottom-color: var(--fill-color);\n",
              "      border-left-color: var(--fill-color);\n",
              "    }\n",
              "    20% {\n",
              "      border-color: transparent;\n",
              "      border-left-color: var(--fill-color);\n",
              "      border-top-color: var(--fill-color);\n",
              "    }\n",
              "    30% {\n",
              "      border-color: transparent;\n",
              "      border-left-color: var(--fill-color);\n",
              "      border-top-color: var(--fill-color);\n",
              "      border-right-color: var(--fill-color);\n",
              "    }\n",
              "    40% {\n",
              "      border-color: transparent;\n",
              "      border-right-color: var(--fill-color);\n",
              "      border-top-color: var(--fill-color);\n",
              "    }\n",
              "    60% {\n",
              "      border-color: transparent;\n",
              "      border-right-color: var(--fill-color);\n",
              "    }\n",
              "    80% {\n",
              "      border-color: transparent;\n",
              "      border-right-color: var(--fill-color);\n",
              "      border-bottom-color: var(--fill-color);\n",
              "    }\n",
              "    90% {\n",
              "      border-color: transparent;\n",
              "      border-bottom-color: var(--fill-color);\n",
              "    }\n",
              "  }\n",
              "</style>\n",
              "\n",
              "  <script>\n",
              "    async function quickchart(key) {\n",
              "      const quickchartButtonEl =\n",
              "        document.querySelector('#' + key + ' button');\n",
              "      quickchartButtonEl.disabled = true;  // To prevent multiple clicks.\n",
              "      quickchartButtonEl.classList.add('colab-df-spinner');\n",
              "      try {\n",
              "        const charts = await google.colab.kernel.invokeFunction(\n",
              "            'suggestCharts', [key], {});\n",
              "      } catch (error) {\n",
              "        console.error('Error during call to suggestCharts:', error);\n",
              "      }\n",
              "      quickchartButtonEl.classList.remove('colab-df-spinner');\n",
              "      quickchartButtonEl.classList.add('colab-df-quickchart-complete');\n",
              "    }\n",
              "    (() => {\n",
              "      let quickchartButtonEl =\n",
              "        document.querySelector('#df-ef1cbc0c-8353-449c-a056-e00d6965d344 button');\n",
              "      quickchartButtonEl.style.display =\n",
              "        google.colab.kernel.accessAllowed ? 'block' : 'none';\n",
              "    })();\n",
              "  </script>\n",
              "</div>\n",
              "\n",
              "    </div>\n",
              "  </div>\n"
            ],
            "application/vnd.google.colaboratory.intrinsic+json": {
              "type": "dataframe",
              "repr_error": "0"
            }
          },
          "metadata": {},
          "execution_count": 54
        }
      ],
      "source": [
        "data.sample(10)"
      ]
    },
    {
      "cell_type": "code",
      "execution_count": null,
      "metadata": {
        "id": "Bbxj_K1LYD6-"
      },
      "outputs": [],
      "source": [
        "# naming the columns and reading the daaset again\n",
        "\n",
        "col_names = ['target','id','date','flag','user','text']\n",
        "data = pd.read_csv('/content/training.1600000.processed.noemoticon.csv', encoding = 'ISO-8859-1', names = col_names)"
      ]
    },
    {
      "cell_type": "code",
      "execution_count": null,
      "metadata": {
        "colab": {
          "base_uri": "https://localhost:8080/"
        },
        "id": "uMsWawUdYjR6",
        "outputId": "cddfa779-4b03-45cf-d33e-7e8074c9e617"
      },
      "outputs": [
        {
          "output_type": "execute_result",
          "data": {
            "text/plain": [
              "(1600000, 6)"
            ]
          },
          "metadata": {},
          "execution_count": 56
        }
      ],
      "source": [
        "data.shape"
      ]
    },
    {
      "cell_type": "code",
      "execution_count": null,
      "metadata": {
        "colab": {
          "base_uri": "https://localhost:8080/",
          "height": 206
        },
        "id": "20GCxIC3Ym_O",
        "outputId": "503fcbb2-0a1a-4b09-dbcd-c1681d6791eb"
      },
      "outputs": [
        {
          "output_type": "execute_result",
          "data": {
            "text/plain": [
              "   target          id                          date      flag  \\\n",
              "0       0  1467810369  Mon Apr 06 22:19:45 PDT 2009  NO_QUERY   \n",
              "1       0  1467810672  Mon Apr 06 22:19:49 PDT 2009  NO_QUERY   \n",
              "2       0  1467810917  Mon Apr 06 22:19:53 PDT 2009  NO_QUERY   \n",
              "3       0  1467811184  Mon Apr 06 22:19:57 PDT 2009  NO_QUERY   \n",
              "4       0  1467811193  Mon Apr 06 22:19:57 PDT 2009  NO_QUERY   \n",
              "\n",
              "              user                                               text  \n",
              "0  _TheSpecialOne_  @switchfoot http://twitpic.com/2y1zl - Awww, t...  \n",
              "1    scotthamilton  is upset that he can't update his Facebook by ...  \n",
              "2         mattycus  @Kenichan I dived many times for the ball. Man...  \n",
              "3          ElleCTF    my whole body feels itchy and like its on fire   \n",
              "4           Karoli  @nationwideclass no, it's not behaving at all....  "
            ],
            "text/html": [
              "\n",
              "  <div id=\"df-3784b7d0-faeb-49f9-954d-7f302fc4cc98\" class=\"colab-df-container\">\n",
              "    <div>\n",
              "<style scoped>\n",
              "    .dataframe tbody tr th:only-of-type {\n",
              "        vertical-align: middle;\n",
              "    }\n",
              "\n",
              "    .dataframe tbody tr th {\n",
              "        vertical-align: top;\n",
              "    }\n",
              "\n",
              "    .dataframe thead th {\n",
              "        text-align: right;\n",
              "    }\n",
              "</style>\n",
              "<table border=\"1\" class=\"dataframe\">\n",
              "  <thead>\n",
              "    <tr style=\"text-align: right;\">\n",
              "      <th></th>\n",
              "      <th>target</th>\n",
              "      <th>id</th>\n",
              "      <th>date</th>\n",
              "      <th>flag</th>\n",
              "      <th>user</th>\n",
              "      <th>text</th>\n",
              "    </tr>\n",
              "  </thead>\n",
              "  <tbody>\n",
              "    <tr>\n",
              "      <th>0</th>\n",
              "      <td>0</td>\n",
              "      <td>1467810369</td>\n",
              "      <td>Mon Apr 06 22:19:45 PDT 2009</td>\n",
              "      <td>NO_QUERY</td>\n",
              "      <td>_TheSpecialOne_</td>\n",
              "      <td>@switchfoot http://twitpic.com/2y1zl - Awww, t...</td>\n",
              "    </tr>\n",
              "    <tr>\n",
              "      <th>1</th>\n",
              "      <td>0</td>\n",
              "      <td>1467810672</td>\n",
              "      <td>Mon Apr 06 22:19:49 PDT 2009</td>\n",
              "      <td>NO_QUERY</td>\n",
              "      <td>scotthamilton</td>\n",
              "      <td>is upset that he can't update his Facebook by ...</td>\n",
              "    </tr>\n",
              "    <tr>\n",
              "      <th>2</th>\n",
              "      <td>0</td>\n",
              "      <td>1467810917</td>\n",
              "      <td>Mon Apr 06 22:19:53 PDT 2009</td>\n",
              "      <td>NO_QUERY</td>\n",
              "      <td>mattycus</td>\n",
              "      <td>@Kenichan I dived many times for the ball. Man...</td>\n",
              "    </tr>\n",
              "    <tr>\n",
              "      <th>3</th>\n",
              "      <td>0</td>\n",
              "      <td>1467811184</td>\n",
              "      <td>Mon Apr 06 22:19:57 PDT 2009</td>\n",
              "      <td>NO_QUERY</td>\n",
              "      <td>ElleCTF</td>\n",
              "      <td>my whole body feels itchy and like its on fire</td>\n",
              "    </tr>\n",
              "    <tr>\n",
              "      <th>4</th>\n",
              "      <td>0</td>\n",
              "      <td>1467811193</td>\n",
              "      <td>Mon Apr 06 22:19:57 PDT 2009</td>\n",
              "      <td>NO_QUERY</td>\n",
              "      <td>Karoli</td>\n",
              "      <td>@nationwideclass no, it's not behaving at all....</td>\n",
              "    </tr>\n",
              "  </tbody>\n",
              "</table>\n",
              "</div>\n",
              "    <div class=\"colab-df-buttons\">\n",
              "\n",
              "  <div class=\"colab-df-container\">\n",
              "    <button class=\"colab-df-convert\" onclick=\"convertToInteractive('df-3784b7d0-faeb-49f9-954d-7f302fc4cc98')\"\n",
              "            title=\"Convert this dataframe to an interactive table.\"\n",
              "            style=\"display:none;\">\n",
              "\n",
              "  <svg xmlns=\"http://www.w3.org/2000/svg\" height=\"24px\" viewBox=\"0 -960 960 960\">\n",
              "    <path d=\"M120-120v-720h720v720H120Zm60-500h600v-160H180v160Zm220 220h160v-160H400v160Zm0 220h160v-160H400v160ZM180-400h160v-160H180v160Zm440 0h160v-160H620v160ZM180-180h160v-160H180v160Zm440 0h160v-160H620v160Z\"/>\n",
              "  </svg>\n",
              "    </button>\n",
              "\n",
              "  <style>\n",
              "    .colab-df-container {\n",
              "      display:flex;\n",
              "      gap: 12px;\n",
              "    }\n",
              "\n",
              "    .colab-df-convert {\n",
              "      background-color: #E8F0FE;\n",
              "      border: none;\n",
              "      border-radius: 50%;\n",
              "      cursor: pointer;\n",
              "      display: none;\n",
              "      fill: #1967D2;\n",
              "      height: 32px;\n",
              "      padding: 0 0 0 0;\n",
              "      width: 32px;\n",
              "    }\n",
              "\n",
              "    .colab-df-convert:hover {\n",
              "      background-color: #E2EBFA;\n",
              "      box-shadow: 0px 1px 2px rgba(60, 64, 67, 0.3), 0px 1px 3px 1px rgba(60, 64, 67, 0.15);\n",
              "      fill: #174EA6;\n",
              "    }\n",
              "\n",
              "    .colab-df-buttons div {\n",
              "      margin-bottom: 4px;\n",
              "    }\n",
              "\n",
              "    [theme=dark] .colab-df-convert {\n",
              "      background-color: #3B4455;\n",
              "      fill: #D2E3FC;\n",
              "    }\n",
              "\n",
              "    [theme=dark] .colab-df-convert:hover {\n",
              "      background-color: #434B5C;\n",
              "      box-shadow: 0px 1px 3px 1px rgba(0, 0, 0, 0.15);\n",
              "      filter: drop-shadow(0px 1px 2px rgba(0, 0, 0, 0.3));\n",
              "      fill: #FFFFFF;\n",
              "    }\n",
              "  </style>\n",
              "\n",
              "    <script>\n",
              "      const buttonEl =\n",
              "        document.querySelector('#df-3784b7d0-faeb-49f9-954d-7f302fc4cc98 button.colab-df-convert');\n",
              "      buttonEl.style.display =\n",
              "        google.colab.kernel.accessAllowed ? 'block' : 'none';\n",
              "\n",
              "      async function convertToInteractive(key) {\n",
              "        const element = document.querySelector('#df-3784b7d0-faeb-49f9-954d-7f302fc4cc98');\n",
              "        const dataTable =\n",
              "          await google.colab.kernel.invokeFunction('convertToInteractive',\n",
              "                                                    [key], {});\n",
              "        if (!dataTable) return;\n",
              "\n",
              "        const docLinkHtml = 'Like what you see? Visit the ' +\n",
              "          '<a target=\"_blank\" href=https://colab.research.google.com/notebooks/data_table.ipynb>data table notebook</a>'\n",
              "          + ' to learn more about interactive tables.';\n",
              "        element.innerHTML = '';\n",
              "        dataTable['output_type'] = 'display_data';\n",
              "        await google.colab.output.renderOutput(dataTable, element);\n",
              "        const docLink = document.createElement('div');\n",
              "        docLink.innerHTML = docLinkHtml;\n",
              "        element.appendChild(docLink);\n",
              "      }\n",
              "    </script>\n",
              "  </div>\n",
              "\n",
              "\n",
              "<div id=\"df-5ec6cbf8-d917-4b01-ab38-12b91fa2b618\">\n",
              "  <button class=\"colab-df-quickchart\" onclick=\"quickchart('df-5ec6cbf8-d917-4b01-ab38-12b91fa2b618')\"\n",
              "            title=\"Suggest charts\"\n",
              "            style=\"display:none;\">\n",
              "\n",
              "<svg xmlns=\"http://www.w3.org/2000/svg\" height=\"24px\"viewBox=\"0 0 24 24\"\n",
              "     width=\"24px\">\n",
              "    <g>\n",
              "        <path d=\"M19 3H5c-1.1 0-2 .9-2 2v14c0 1.1.9 2 2 2h14c1.1 0 2-.9 2-2V5c0-1.1-.9-2-2-2zM9 17H7v-7h2v7zm4 0h-2V7h2v10zm4 0h-2v-4h2v4z\"/>\n",
              "    </g>\n",
              "</svg>\n",
              "  </button>\n",
              "\n",
              "<style>\n",
              "  .colab-df-quickchart {\n",
              "      --bg-color: #E8F0FE;\n",
              "      --fill-color: #1967D2;\n",
              "      --hover-bg-color: #E2EBFA;\n",
              "      --hover-fill-color: #174EA6;\n",
              "      --disabled-fill-color: #AAA;\n",
              "      --disabled-bg-color: #DDD;\n",
              "  }\n",
              "\n",
              "  [theme=dark] .colab-df-quickchart {\n",
              "      --bg-color: #3B4455;\n",
              "      --fill-color: #D2E3FC;\n",
              "      --hover-bg-color: #434B5C;\n",
              "      --hover-fill-color: #FFFFFF;\n",
              "      --disabled-bg-color: #3B4455;\n",
              "      --disabled-fill-color: #666;\n",
              "  }\n",
              "\n",
              "  .colab-df-quickchart {\n",
              "    background-color: var(--bg-color);\n",
              "    border: none;\n",
              "    border-radius: 50%;\n",
              "    cursor: pointer;\n",
              "    display: none;\n",
              "    fill: var(--fill-color);\n",
              "    height: 32px;\n",
              "    padding: 0;\n",
              "    width: 32px;\n",
              "  }\n",
              "\n",
              "  .colab-df-quickchart:hover {\n",
              "    background-color: var(--hover-bg-color);\n",
              "    box-shadow: 0 1px 2px rgba(60, 64, 67, 0.3), 0 1px 3px 1px rgba(60, 64, 67, 0.15);\n",
              "    fill: var(--button-hover-fill-color);\n",
              "  }\n",
              "\n",
              "  .colab-df-quickchart-complete:disabled,\n",
              "  .colab-df-quickchart-complete:disabled:hover {\n",
              "    background-color: var(--disabled-bg-color);\n",
              "    fill: var(--disabled-fill-color);\n",
              "    box-shadow: none;\n",
              "  }\n",
              "\n",
              "  .colab-df-spinner {\n",
              "    border: 2px solid var(--fill-color);\n",
              "    border-color: transparent;\n",
              "    border-bottom-color: var(--fill-color);\n",
              "    animation:\n",
              "      spin 1s steps(1) infinite;\n",
              "  }\n",
              "\n",
              "  @keyframes spin {\n",
              "    0% {\n",
              "      border-color: transparent;\n",
              "      border-bottom-color: var(--fill-color);\n",
              "      border-left-color: var(--fill-color);\n",
              "    }\n",
              "    20% {\n",
              "      border-color: transparent;\n",
              "      border-left-color: var(--fill-color);\n",
              "      border-top-color: var(--fill-color);\n",
              "    }\n",
              "    30% {\n",
              "      border-color: transparent;\n",
              "      border-left-color: var(--fill-color);\n",
              "      border-top-color: var(--fill-color);\n",
              "      border-right-color: var(--fill-color);\n",
              "    }\n",
              "    40% {\n",
              "      border-color: transparent;\n",
              "      border-right-color: var(--fill-color);\n",
              "      border-top-color: var(--fill-color);\n",
              "    }\n",
              "    60% {\n",
              "      border-color: transparent;\n",
              "      border-right-color: var(--fill-color);\n",
              "    }\n",
              "    80% {\n",
              "      border-color: transparent;\n",
              "      border-right-color: var(--fill-color);\n",
              "      border-bottom-color: var(--fill-color);\n",
              "    }\n",
              "    90% {\n",
              "      border-color: transparent;\n",
              "      border-bottom-color: var(--fill-color);\n",
              "    }\n",
              "  }\n",
              "</style>\n",
              "\n",
              "  <script>\n",
              "    async function quickchart(key) {\n",
              "      const quickchartButtonEl =\n",
              "        document.querySelector('#' + key + ' button');\n",
              "      quickchartButtonEl.disabled = true;  // To prevent multiple clicks.\n",
              "      quickchartButtonEl.classList.add('colab-df-spinner');\n",
              "      try {\n",
              "        const charts = await google.colab.kernel.invokeFunction(\n",
              "            'suggestCharts', [key], {});\n",
              "      } catch (error) {\n",
              "        console.error('Error during call to suggestCharts:', error);\n",
              "      }\n",
              "      quickchartButtonEl.classList.remove('colab-df-spinner');\n",
              "      quickchartButtonEl.classList.add('colab-df-quickchart-complete');\n",
              "    }\n",
              "    (() => {\n",
              "      let quickchartButtonEl =\n",
              "        document.querySelector('#df-5ec6cbf8-d917-4b01-ab38-12b91fa2b618 button');\n",
              "      quickchartButtonEl.style.display =\n",
              "        google.colab.kernel.accessAllowed ? 'block' : 'none';\n",
              "    })();\n",
              "  </script>\n",
              "</div>\n",
              "\n",
              "    </div>\n",
              "  </div>\n"
            ],
            "application/vnd.google.colaboratory.intrinsic+json": {
              "type": "dataframe",
              "variable_name": "data"
            }
          },
          "metadata": {},
          "execution_count": 57
        }
      ],
      "source": [
        "data.head()"
      ]
    },
    {
      "cell_type": "code",
      "execution_count": null,
      "metadata": {
        "colab": {
          "base_uri": "https://localhost:8080/"
        },
        "id": "tbaOjyDcZGOq",
        "outputId": "3b6b4c2a-bce9-4f2f-a8e7-dcb227b18931"
      },
      "outputs": [
        {
          "output_type": "execute_result",
          "data": {
            "text/plain": [
              "target    0\n",
              "id        0\n",
              "date      0\n",
              "flag      0\n",
              "user      0\n",
              "text      0\n",
              "dtype: int64"
            ]
          },
          "metadata": {},
          "execution_count": 58
        }
      ],
      "source": [
        "# counting the number of missing values\n",
        "data.isnull().sum()"
      ]
    },
    {
      "cell_type": "code",
      "execution_count": null,
      "metadata": {
        "id": "XFvUFny6e3Lr"
      },
      "outputs": [],
      "source": [
        "data = data.sample(n=50000)"
      ]
    },
    {
      "cell_type": "code",
      "execution_count": null,
      "metadata": {
        "colab": {
          "base_uri": "https://localhost:8080/"
        },
        "id": "mnBWVEtLZaq2",
        "outputId": "009fc044-93aa-4423-ff74-e5d3e777e134"
      },
      "outputs": [
        {
          "output_type": "execute_result",
          "data": {
            "text/plain": [
              "target\n",
              "0    25151\n",
              "4    24849\n",
              "Name: count, dtype: int64"
            ]
          },
          "metadata": {},
          "execution_count": 60
        }
      ],
      "source": [
        "#checking the distribution of target column\n",
        "data['target'].value_counts() # almost equal distribution"
      ]
    },
    {
      "cell_type": "markdown",
      "metadata": {
        "id": "iNcUQkLTZ-31"
      },
      "source": [
        "convert the target for positive tweets, 4 to 1"
      ]
    },
    {
      "cell_type": "code",
      "execution_count": null,
      "metadata": {
        "id": "MJjlbOI7aB1r"
      },
      "outputs": [],
      "source": [
        "data.replace({'target':{4:1}}, inplace = True) # in the form of a dictionary"
      ]
    },
    {
      "cell_type": "code",
      "execution_count": null,
      "metadata": {
        "colab": {
          "base_uri": "https://localhost:8080/"
        },
        "id": "UwlZr8AeaGIU",
        "outputId": "355efd23-93b2-4353-d650-3038b7295e9e"
      },
      "outputs": [
        {
          "output_type": "execute_result",
          "data": {
            "text/plain": [
              "target\n",
              "0    25151\n",
              "1    24849\n",
              "Name: count, dtype: int64"
            ]
          },
          "metadata": {},
          "execution_count": 62
        }
      ],
      "source": [
        "data['target'].value_counts() # no neutral tweets in the data"
      ]
    },
    {
      "cell_type": "markdown",
      "metadata": {
        "id": "RS6j1XeFalYD"
      },
      "source": [
        "0 -> negative tweet\n",
        "\n",
        "1 -> positive tweet"
      ]
    },
    {
      "cell_type": "markdown",
      "metadata": {
        "id": "n8AtFiBka7RL"
      },
      "source": [
        "STEMMING\n"
      ]
    },
    {
      "cell_type": "code",
      "execution_count": null,
      "metadata": {
        "colab": {
          "base_uri": "https://localhost:8080/"
        },
        "collapsed": true,
        "id": "91VgvPvAc9oR",
        "outputId": "62f0484d-175b-4cdb-ccef-b1006efe65c7"
      },
      "outputs": [
        {
          "output_type": "stream",
          "name": "stdout",
          "text": [
            "Hello :smiling_face_with_smiling_eyes:! I hope you're having a great day :sun_with_face:.\n"
          ]
        }
      ],
      "source": [
        "# for example nothing to do with code\n",
        "\n",
        "text = \"Hello 😊! I hope you're having a great day 🌞.\"\n",
        "text = emoji.demojize(text)\n",
        "\n",
        "print(text)"
      ]
    },
    {
      "cell_type": "code",
      "execution_count": null,
      "metadata": {
        "colab": {
          "base_uri": "https://localhost:8080/"
        },
        "id": "h41gTEquAPzt",
        "outputId": "cdb4a297-1d5c-40a5-a132-1e372f517b78"
      },
      "outputs": [
        {
          "output_type": "stream",
          "name": "stdout",
          "text": [
            "Requirement already satisfied: emoji in /usr/local/lib/python3.10/dist-packages (2.12.1)\n",
            "Requirement already satisfied: typing-extensions>=4.7.0 in /usr/local/lib/python3.10/dist-packages (from emoji) (4.12.2)\n"
          ]
        }
      ],
      "source": [
        "!pip install emoji # for example nothing to do with code\n",
        "import emoji\n",
        "p_stem = PorterStemmer()\n",
        "import string"
      ]
    },
    {
      "cell_type": "code",
      "execution_count": null,
      "metadata": {
        "id": "7DNPlDy_E-ge",
        "colab": {
          "base_uri": "https://localhost:8080/"
        },
        "outputId": "a60a0ca3-c023-4715-fec6-0f6e2d4fb349"
      },
      "outputs": [
        {
          "output_type": "stream",
          "name": "stdout",
          "text": [
            "{'AFAIK': 'As Far As I Know', 'AFK': 'Away From Keyboard', 'ASAP': 'As Soon As Possible', 'ATK': 'At The Keyboard', 'ATM': 'At The Moment', 'A3': 'Anytime, Anywhere, Anyplace', 'BAK': 'Back At Keyboard', 'BBL': 'Be Back Later', 'BBS': 'Be Back Soon', 'BFN': 'Bye For Now', 'BRB': 'Be Right Back', 'BRT': 'Be Right There', 'BTW': 'By The Way', 'B4': 'Before', 'B4N': 'Bye For Now', 'CU': 'See You', 'CUL8R': 'See You Later', 'CYA': 'See You', 'FAQ': 'Frequently Asked Questions', 'FC': 'Fingers Crossed', 'FWIW': \"For What It's Worth\", 'FYI': 'For Your Information', 'GAL': 'Get A Life', 'GG': 'Good Game', 'GN': 'Good Night', 'GMTA': 'Great Minds Think Alike', 'GR8': 'Great!', 'G9': 'Genius', 'IC': 'I See', 'ICQ': 'I Seek you (also a chat program)', 'ILU': ' I Love You', 'IMHO': 'In My Honest/Humble Opinion', 'IMO': 'In My Opinion', 'IOW': 'In Other Words', 'IRL': 'In Real Life', 'KISS': 'Keep It Simple, Stupid', 'LDR': 'Long Distance Relationship', 'LMAO': 'Laugh My A.. Off', 'LOL': 'Laughing Out Loud', 'LTNS': 'Long Time No See', 'L8R': 'Later', 'MTE': 'My Thoughts Exactly', 'M8': 'Mate', 'NRN': 'No Reply Necessary', 'OIC': 'Oh I See', 'PITA': 'Pain In The A..', 'PRT': 'Party', 'PRW': 'Parents Are Watching', 'QPSA': '\\tQue Pasa?', 'ROFL': 'Rolling On The Floor Laughing', 'ROFLOL': 'Rolling On The Floor Laughing Out Loud', 'ROTFLMAO': 'Rolling On The Floor Laughing My Ass Off', 'SK8': 'Skate', 'STATS': 'Your sex and age', 'ASL': 'Age, Sex, Location', 'THX': 'Thank You', 'TTFN': 'Ta Ta For Now', 'TTYL': 'Talk To You Later', 'U': 'You', 'U2': 'You Too', 'U4E': 'Yours For Ever', 'WB': 'Welcome Back', 'WTF': 'What The Fuck', 'WTG': 'Way To Go!', 'WUF': 'Where Are You From?', 'W8': 'Wait', '7K': 'Sick', 'TFW ': ' That feeling when. TFW internet slang often goes in a caption to an image.', 'MFW ': ' My face when', 'MRW ': ' My reaction when', 'IFYP ': ' I feel your pain', 'LOL ': ' Laughing out loud', 'TNTL ': ' Trying not to laugh', 'JK ': ' Just kidding', 'IDC ': ' I don’t care', 'ILY ': ' I love you', 'IMU ': ' I miss you', 'ADIH ': ' Another day in hell', 'ZZZ ': ' Sleeping, bored, tired', 'WYWH ': ' Wish you were here', 'TIME ': ' Tears in my eyes', 'BAE ': ' Before anyone else', 'FIMH ': ' Forever in my heart', 'BSAAW ': ' Big smile and a wink', 'BWL ': ' Bursting with laughter', 'LMAO ': ' Laughing my ass off', 'BFF': ' Best friends forever', 'CSL ': ' Can’t stop laughing'}\n"
          ]
        }
      ],
      "source": [
        "dict ={}\n",
        "with open('/content/slang.txt', 'r') as file:\n",
        "  for line in file:\n",
        "    line = line.strip()\n",
        "    if line:  # Check if the line is not empty\n",
        "      key, value = line.split('=', 1)  # Split on the first symbol\n",
        "      dict[key] = value\n",
        "\n",
        "print(dict)"
      ]
    },
    {
      "cell_type": "code",
      "execution_count": null,
      "metadata": {
        "id": "QZ5CSZAtFGSp"
      },
      "outputs": [],
      "source": [
        "def chat(text): # function to convert slangs into their full forms\n",
        "  new_txt = []\n",
        "  for w in text.split():\n",
        "    if w.upper() in dict.keys():\n",
        "      new_txt.append(dict[w.upper()])\n",
        "    else:\n",
        "      new_txt.append(w)\n",
        "  return ' '.join(new_txt)"
      ]
    },
    {
      "cell_type": "code",
      "source": [
        "data['text'].apply(chat)"
      ],
      "metadata": {
        "colab": {
          "base_uri": "https://localhost:8080/"
        },
        "id": "Bi6qwiagXggY",
        "outputId": "22191c26-6c7b-4280-e1ba-2904d16a5e5c"
      },
      "execution_count": null,
      "outputs": [
        {
          "output_type": "execute_result",
          "data": {
            "text/plain": [
              "45009      I wish I lived in America ... ... and had nice...\n",
              "1406657    @loveandbooze Oh my! At least I got rid of the...\n",
              "689468     @abbybradz I will miss your tweeting, and I wi...\n",
              "596598     No i don*t calling with my boyfriend...i sitti...\n",
              "166656     if officially done with high school.... so sad...\n",
              "                                 ...                        \n",
              "1373460    loving life...staying up late due to a nap I t...\n",
              "685217     I finally gave up trying to txt/im this wonder...\n",
              "398688     Dropped Iolaus off to get checked out. My lapt...\n",
              "801993     I'm up way too early and it's rather cold. On ...\n",
              "1589579    Cool first-day-of-my-weekend so far! Watched Y...\n",
              "Name: text, Length: 50000, dtype: object"
            ]
          },
          "metadata": {},
          "execution_count": 67
        }
      ]
    },
    {
      "cell_type": "code",
      "execution_count": null,
      "metadata": {
        "id": "L5Aew46cbCs9"
      },
      "outputs": [],
      "source": [
        "def stemming(content):\n",
        "  content = emoji.demojize(content)\n",
        "  # content = content.translate(str.maketrans('','',string.punctuation))\n",
        "  stemmed_content = re.sub('[^a-zA-Z]', ' ', content) # if any word or letter doesnt belong to this a-z then we will remove it\n",
        "  stemmed_content = stemmed_content.lower()\n",
        "  stemmed_content = stemmed_content.split()\n",
        "  stemmed_content = [p_stem.stem(word) for word in stemmed_content if not word in stopwords.words('english')]\n",
        "  # reducing the word to its root form or stemmed form and then checking if it belongs to the list of stopwords\n",
        "  # if it does not then we add it to the list\n",
        "  stemmed_content = ' '.join(stemmed_content)\n",
        "  return stemmed_content"
      ]
    },
    {
      "cell_type": "code",
      "execution_count": null,
      "metadata": {
        "id": "nfZ1ViMxbrfl"
      },
      "outputs": [],
      "source": [
        "data['stemmed_content'] = data['text'].apply(stemming)"
      ]
    },
    {
      "cell_type": "code",
      "execution_count": null,
      "metadata": {
        "colab": {
          "base_uri": "https://localhost:8080/",
          "height": 536
        },
        "id": "7RLAQONXd9yq",
        "outputId": "c4e6b5e5-fb83-470d-a7ab-4a22a4e0b100"
      },
      "outputs": [
        {
          "output_type": "execute_result",
          "data": {
            "text/plain": [
              "         target          id                          date      flag  \\\n",
              "1138796       1  1976872182  Sat May 30 19:22:54 PDT 2009  NO_QUERY   \n",
              "227909        0  1978155439  Sat May 30 22:34:50 PDT 2009  NO_QUERY   \n",
              "657361        0  2240993633  Fri Jun 19 10:24:46 PDT 2009  NO_QUERY   \n",
              "170435        0  1962905897  Fri May 29 11:54:07 PDT 2009  NO_QUERY   \n",
              "949366        1  1823712650  Sat May 16 22:45:11 PDT 2009  NO_QUERY   \n",
              "382944        0  2053100151  Sat Jun 06 03:16:18 PDT 2009  NO_QUERY   \n",
              "620071        0  2228197575  Thu Jun 18 14:08:24 PDT 2009  NO_QUERY   \n",
              "1432801       1  2060330454  Sat Jun 06 18:42:10 PDT 2009  NO_QUERY   \n",
              "1110845       1  1972129700  Sat May 30 08:37:13 PDT 2009  NO_QUERY   \n",
              "693941        0  2252863773  Sat Jun 20 07:08:34 PDT 2009  NO_QUERY   \n",
              "\n",
              "                    user                                               text  \\\n",
              "1138796    rxgellivictor  is on air www.rx931.com from 9am to 2pm today!...   \n",
              "227909        joceybrown  I miss my boyfran, bestfran, brother, and Cuff...   \n",
              "657361     yankeechick78  @Stefmara that sun is blinding.  I miss the sun.    \n",
              "170435            emclev         A delay until midnight  bloody thomson!!!!   \n",
              "949366          DeeAnA19             Pickiin up my partner in crime,Chiqui    \n",
              "382944   zaramccartney94  Ewww der mushed up everywere,, im never gonna ...   \n",
              "620071       gillibobs29  I am going to miss Bigbury  can anything beat ...   \n",
              "1432801  NeoCleo_the_Cat  I went to my first adoption day today. I was s...   \n",
              "1110845        loripluna  At starbucks. About to go get my hair dyed. Su...   \n",
              "693941        Shishaaaaa  Tired and exhausted, helping my best friend to...   \n",
              "\n",
              "                                           stemmed_content  \n",
              "1138796        air www rx com pm today best hophop rnb hip  \n",
              "227909               miss boyfran bestfran brother cuffbff  \n",
              "657361                         stefmara sun blind miss sun  \n",
              "170435                       delay midnight bloodi thomson  \n",
              "949366                        pickiin partner crime chiqui  \n",
              "382944   ewww der mush everywer im never gonna b abl ti...  \n",
              "620071         go miss bigburi anyth beat daili walk beach  \n",
              "1432801  went first adopt day today brave girl foster m...  \n",
              "1110845  starbuck go get hair dy summer blond alreadi f...  \n",
              "693941   tire exhaust help best friend move apart reall...  "
            ],
            "text/html": [
              "\n",
              "  <div id=\"df-760e4cc5-fe24-4453-a622-bcc9de85ce31\" class=\"colab-df-container\">\n",
              "    <div>\n",
              "<style scoped>\n",
              "    .dataframe tbody tr th:only-of-type {\n",
              "        vertical-align: middle;\n",
              "    }\n",
              "\n",
              "    .dataframe tbody tr th {\n",
              "        vertical-align: top;\n",
              "    }\n",
              "\n",
              "    .dataframe thead th {\n",
              "        text-align: right;\n",
              "    }\n",
              "</style>\n",
              "<table border=\"1\" class=\"dataframe\">\n",
              "  <thead>\n",
              "    <tr style=\"text-align: right;\">\n",
              "      <th></th>\n",
              "      <th>target</th>\n",
              "      <th>id</th>\n",
              "      <th>date</th>\n",
              "      <th>flag</th>\n",
              "      <th>user</th>\n",
              "      <th>text</th>\n",
              "      <th>stemmed_content</th>\n",
              "    </tr>\n",
              "  </thead>\n",
              "  <tbody>\n",
              "    <tr>\n",
              "      <th>1138796</th>\n",
              "      <td>1</td>\n",
              "      <td>1976872182</td>\n",
              "      <td>Sat May 30 19:22:54 PDT 2009</td>\n",
              "      <td>NO_QUERY</td>\n",
              "      <td>rxgellivictor</td>\n",
              "      <td>is on air www.rx931.com from 9am to 2pm today!...</td>\n",
              "      <td>air www rx com pm today best hophop rnb hip</td>\n",
              "    </tr>\n",
              "    <tr>\n",
              "      <th>227909</th>\n",
              "      <td>0</td>\n",
              "      <td>1978155439</td>\n",
              "      <td>Sat May 30 22:34:50 PDT 2009</td>\n",
              "      <td>NO_QUERY</td>\n",
              "      <td>joceybrown</td>\n",
              "      <td>I miss my boyfran, bestfran, brother, and Cuff...</td>\n",
              "      <td>miss boyfran bestfran brother cuffbff</td>\n",
              "    </tr>\n",
              "    <tr>\n",
              "      <th>657361</th>\n",
              "      <td>0</td>\n",
              "      <td>2240993633</td>\n",
              "      <td>Fri Jun 19 10:24:46 PDT 2009</td>\n",
              "      <td>NO_QUERY</td>\n",
              "      <td>yankeechick78</td>\n",
              "      <td>@Stefmara that sun is blinding.  I miss the sun.</td>\n",
              "      <td>stefmara sun blind miss sun</td>\n",
              "    </tr>\n",
              "    <tr>\n",
              "      <th>170435</th>\n",
              "      <td>0</td>\n",
              "      <td>1962905897</td>\n",
              "      <td>Fri May 29 11:54:07 PDT 2009</td>\n",
              "      <td>NO_QUERY</td>\n",
              "      <td>emclev</td>\n",
              "      <td>A delay until midnight  bloody thomson!!!!</td>\n",
              "      <td>delay midnight bloodi thomson</td>\n",
              "    </tr>\n",
              "    <tr>\n",
              "      <th>949366</th>\n",
              "      <td>1</td>\n",
              "      <td>1823712650</td>\n",
              "      <td>Sat May 16 22:45:11 PDT 2009</td>\n",
              "      <td>NO_QUERY</td>\n",
              "      <td>DeeAnA19</td>\n",
              "      <td>Pickiin up my partner in crime,Chiqui</td>\n",
              "      <td>pickiin partner crime chiqui</td>\n",
              "    </tr>\n",
              "    <tr>\n",
              "      <th>382944</th>\n",
              "      <td>0</td>\n",
              "      <td>2053100151</td>\n",
              "      <td>Sat Jun 06 03:16:18 PDT 2009</td>\n",
              "      <td>NO_QUERY</td>\n",
              "      <td>zaramccartney94</td>\n",
              "      <td>Ewww der mushed up everywere,, im never gonna ...</td>\n",
              "      <td>ewww der mush everywer im never gonna b abl ti...</td>\n",
              "    </tr>\n",
              "    <tr>\n",
              "      <th>620071</th>\n",
              "      <td>0</td>\n",
              "      <td>2228197575</td>\n",
              "      <td>Thu Jun 18 14:08:24 PDT 2009</td>\n",
              "      <td>NO_QUERY</td>\n",
              "      <td>gillibobs29</td>\n",
              "      <td>I am going to miss Bigbury  can anything beat ...</td>\n",
              "      <td>go miss bigburi anyth beat daili walk beach</td>\n",
              "    </tr>\n",
              "    <tr>\n",
              "      <th>1432801</th>\n",
              "      <td>1</td>\n",
              "      <td>2060330454</td>\n",
              "      <td>Sat Jun 06 18:42:10 PDT 2009</td>\n",
              "      <td>NO_QUERY</td>\n",
              "      <td>NeoCleo_the_Cat</td>\n",
              "      <td>I went to my first adoption day today. I was s...</td>\n",
              "      <td>went first adopt day today brave girl foster m...</td>\n",
              "    </tr>\n",
              "    <tr>\n",
              "      <th>1110845</th>\n",
              "      <td>1</td>\n",
              "      <td>1972129700</td>\n",
              "      <td>Sat May 30 08:37:13 PDT 2009</td>\n",
              "      <td>NO_QUERY</td>\n",
              "      <td>loripluna</td>\n",
              "      <td>At starbucks. About to go get my hair dyed. Su...</td>\n",
              "      <td>starbuck go get hair dy summer blond alreadi f...</td>\n",
              "    </tr>\n",
              "    <tr>\n",
              "      <th>693941</th>\n",
              "      <td>0</td>\n",
              "      <td>2252863773</td>\n",
              "      <td>Sat Jun 20 07:08:34 PDT 2009</td>\n",
              "      <td>NO_QUERY</td>\n",
              "      <td>Shishaaaaa</td>\n",
              "      <td>Tired and exhausted, helping my best friend to...</td>\n",
              "      <td>tire exhaust help best friend move apart reall...</td>\n",
              "    </tr>\n",
              "  </tbody>\n",
              "</table>\n",
              "</div>\n",
              "    <div class=\"colab-df-buttons\">\n",
              "\n",
              "  <div class=\"colab-df-container\">\n",
              "    <button class=\"colab-df-convert\" onclick=\"convertToInteractive('df-760e4cc5-fe24-4453-a622-bcc9de85ce31')\"\n",
              "            title=\"Convert this dataframe to an interactive table.\"\n",
              "            style=\"display:none;\">\n",
              "\n",
              "  <svg xmlns=\"http://www.w3.org/2000/svg\" height=\"24px\" viewBox=\"0 -960 960 960\">\n",
              "    <path d=\"M120-120v-720h720v720H120Zm60-500h600v-160H180v160Zm220 220h160v-160H400v160Zm0 220h160v-160H400v160ZM180-400h160v-160H180v160Zm440 0h160v-160H620v160ZM180-180h160v-160H180v160Zm440 0h160v-160H620v160Z\"/>\n",
              "  </svg>\n",
              "    </button>\n",
              "\n",
              "  <style>\n",
              "    .colab-df-container {\n",
              "      display:flex;\n",
              "      gap: 12px;\n",
              "    }\n",
              "\n",
              "    .colab-df-convert {\n",
              "      background-color: #E8F0FE;\n",
              "      border: none;\n",
              "      border-radius: 50%;\n",
              "      cursor: pointer;\n",
              "      display: none;\n",
              "      fill: #1967D2;\n",
              "      height: 32px;\n",
              "      padding: 0 0 0 0;\n",
              "      width: 32px;\n",
              "    }\n",
              "\n",
              "    .colab-df-convert:hover {\n",
              "      background-color: #E2EBFA;\n",
              "      box-shadow: 0px 1px 2px rgba(60, 64, 67, 0.3), 0px 1px 3px 1px rgba(60, 64, 67, 0.15);\n",
              "      fill: #174EA6;\n",
              "    }\n",
              "\n",
              "    .colab-df-buttons div {\n",
              "      margin-bottom: 4px;\n",
              "    }\n",
              "\n",
              "    [theme=dark] .colab-df-convert {\n",
              "      background-color: #3B4455;\n",
              "      fill: #D2E3FC;\n",
              "    }\n",
              "\n",
              "    [theme=dark] .colab-df-convert:hover {\n",
              "      background-color: #434B5C;\n",
              "      box-shadow: 0px 1px 3px 1px rgba(0, 0, 0, 0.15);\n",
              "      filter: drop-shadow(0px 1px 2px rgba(0, 0, 0, 0.3));\n",
              "      fill: #FFFFFF;\n",
              "    }\n",
              "  </style>\n",
              "\n",
              "    <script>\n",
              "      const buttonEl =\n",
              "        document.querySelector('#df-760e4cc5-fe24-4453-a622-bcc9de85ce31 button.colab-df-convert');\n",
              "      buttonEl.style.display =\n",
              "        google.colab.kernel.accessAllowed ? 'block' : 'none';\n",
              "\n",
              "      async function convertToInteractive(key) {\n",
              "        const element = document.querySelector('#df-760e4cc5-fe24-4453-a622-bcc9de85ce31');\n",
              "        const dataTable =\n",
              "          await google.colab.kernel.invokeFunction('convertToInteractive',\n",
              "                                                    [key], {});\n",
              "        if (!dataTable) return;\n",
              "\n",
              "        const docLinkHtml = 'Like what you see? Visit the ' +\n",
              "          '<a target=\"_blank\" href=https://colab.research.google.com/notebooks/data_table.ipynb>data table notebook</a>'\n",
              "          + ' to learn more about interactive tables.';\n",
              "        element.innerHTML = '';\n",
              "        dataTable['output_type'] = 'display_data';\n",
              "        await google.colab.output.renderOutput(dataTable, element);\n",
              "        const docLink = document.createElement('div');\n",
              "        docLink.innerHTML = docLinkHtml;\n",
              "        element.appendChild(docLink);\n",
              "      }\n",
              "    </script>\n",
              "  </div>\n",
              "\n",
              "\n",
              "<div id=\"df-5f6b3ed0-5fa2-4c2a-938c-568ceb55529c\">\n",
              "  <button class=\"colab-df-quickchart\" onclick=\"quickchart('df-5f6b3ed0-5fa2-4c2a-938c-568ceb55529c')\"\n",
              "            title=\"Suggest charts\"\n",
              "            style=\"display:none;\">\n",
              "\n",
              "<svg xmlns=\"http://www.w3.org/2000/svg\" height=\"24px\"viewBox=\"0 0 24 24\"\n",
              "     width=\"24px\">\n",
              "    <g>\n",
              "        <path d=\"M19 3H5c-1.1 0-2 .9-2 2v14c0 1.1.9 2 2 2h14c1.1 0 2-.9 2-2V5c0-1.1-.9-2-2-2zM9 17H7v-7h2v7zm4 0h-2V7h2v10zm4 0h-2v-4h2v4z\"/>\n",
              "    </g>\n",
              "</svg>\n",
              "  </button>\n",
              "\n",
              "<style>\n",
              "  .colab-df-quickchart {\n",
              "      --bg-color: #E8F0FE;\n",
              "      --fill-color: #1967D2;\n",
              "      --hover-bg-color: #E2EBFA;\n",
              "      --hover-fill-color: #174EA6;\n",
              "      --disabled-fill-color: #AAA;\n",
              "      --disabled-bg-color: #DDD;\n",
              "  }\n",
              "\n",
              "  [theme=dark] .colab-df-quickchart {\n",
              "      --bg-color: #3B4455;\n",
              "      --fill-color: #D2E3FC;\n",
              "      --hover-bg-color: #434B5C;\n",
              "      --hover-fill-color: #FFFFFF;\n",
              "      --disabled-bg-color: #3B4455;\n",
              "      --disabled-fill-color: #666;\n",
              "  }\n",
              "\n",
              "  .colab-df-quickchart {\n",
              "    background-color: var(--bg-color);\n",
              "    border: none;\n",
              "    border-radius: 50%;\n",
              "    cursor: pointer;\n",
              "    display: none;\n",
              "    fill: var(--fill-color);\n",
              "    height: 32px;\n",
              "    padding: 0;\n",
              "    width: 32px;\n",
              "  }\n",
              "\n",
              "  .colab-df-quickchart:hover {\n",
              "    background-color: var(--hover-bg-color);\n",
              "    box-shadow: 0 1px 2px rgba(60, 64, 67, 0.3), 0 1px 3px 1px rgba(60, 64, 67, 0.15);\n",
              "    fill: var(--button-hover-fill-color);\n",
              "  }\n",
              "\n",
              "  .colab-df-quickchart-complete:disabled,\n",
              "  .colab-df-quickchart-complete:disabled:hover {\n",
              "    background-color: var(--disabled-bg-color);\n",
              "    fill: var(--disabled-fill-color);\n",
              "    box-shadow: none;\n",
              "  }\n",
              "\n",
              "  .colab-df-spinner {\n",
              "    border: 2px solid var(--fill-color);\n",
              "    border-color: transparent;\n",
              "    border-bottom-color: var(--fill-color);\n",
              "    animation:\n",
              "      spin 1s steps(1) infinite;\n",
              "  }\n",
              "\n",
              "  @keyframes spin {\n",
              "    0% {\n",
              "      border-color: transparent;\n",
              "      border-bottom-color: var(--fill-color);\n",
              "      border-left-color: var(--fill-color);\n",
              "    }\n",
              "    20% {\n",
              "      border-color: transparent;\n",
              "      border-left-color: var(--fill-color);\n",
              "      border-top-color: var(--fill-color);\n",
              "    }\n",
              "    30% {\n",
              "      border-color: transparent;\n",
              "      border-left-color: var(--fill-color);\n",
              "      border-top-color: var(--fill-color);\n",
              "      border-right-color: var(--fill-color);\n",
              "    }\n",
              "    40% {\n",
              "      border-color: transparent;\n",
              "      border-right-color: var(--fill-color);\n",
              "      border-top-color: var(--fill-color);\n",
              "    }\n",
              "    60% {\n",
              "      border-color: transparent;\n",
              "      border-right-color: var(--fill-color);\n",
              "    }\n",
              "    80% {\n",
              "      border-color: transparent;\n",
              "      border-right-color: var(--fill-color);\n",
              "      border-bottom-color: var(--fill-color);\n",
              "    }\n",
              "    90% {\n",
              "      border-color: transparent;\n",
              "      border-bottom-color: var(--fill-color);\n",
              "    }\n",
              "  }\n",
              "</style>\n",
              "\n",
              "  <script>\n",
              "    async function quickchart(key) {\n",
              "      const quickchartButtonEl =\n",
              "        document.querySelector('#' + key + ' button');\n",
              "      quickchartButtonEl.disabled = true;  // To prevent multiple clicks.\n",
              "      quickchartButtonEl.classList.add('colab-df-spinner');\n",
              "      try {\n",
              "        const charts = await google.colab.kernel.invokeFunction(\n",
              "            'suggestCharts', [key], {});\n",
              "      } catch (error) {\n",
              "        console.error('Error during call to suggestCharts:', error);\n",
              "      }\n",
              "      quickchartButtonEl.classList.remove('colab-df-spinner');\n",
              "      quickchartButtonEl.classList.add('colab-df-quickchart-complete');\n",
              "    }\n",
              "    (() => {\n",
              "      let quickchartButtonEl =\n",
              "        document.querySelector('#df-5f6b3ed0-5fa2-4c2a-938c-568ceb55529c button');\n",
              "      quickchartButtonEl.style.display =\n",
              "        google.colab.kernel.accessAllowed ? 'block' : 'none';\n",
              "    })();\n",
              "  </script>\n",
              "</div>\n",
              "\n",
              "    </div>\n",
              "  </div>\n"
            ],
            "application/vnd.google.colaboratory.intrinsic+json": {
              "type": "dataframe",
              "summary": "{\n  \"name\": \"data\",\n  \"rows\": 10,\n  \"fields\": [\n    {\n      \"column\": \"target\",\n      \"properties\": {\n        \"dtype\": \"number\",\n        \"std\": 0,\n        \"min\": 0,\n        \"max\": 1,\n        \"num_unique_values\": 2,\n        \"samples\": [\n          0,\n          1\n        ],\n        \"semantic_type\": \"\",\n        \"description\": \"\"\n      }\n    },\n    {\n      \"column\": \"id\",\n      \"properties\": {\n        \"dtype\": \"number\",\n        \"std\": 143226612,\n        \"min\": 1823712650,\n        \"max\": 2252863773,\n        \"num_unique_values\": 10,\n        \"samples\": [\n          1972129700,\n          1978155439\n        ],\n        \"semantic_type\": \"\",\n        \"description\": \"\"\n      }\n    },\n    {\n      \"column\": \"date\",\n      \"properties\": {\n        \"dtype\": \"string\",\n        \"num_unique_values\": 10,\n        \"samples\": [\n          \"Sat May 30 08:37:13 PDT 2009\",\n          \"Sat May 30 22:34:50 PDT 2009\"\n        ],\n        \"semantic_type\": \"\",\n        \"description\": \"\"\n      }\n    },\n    {\n      \"column\": \"flag\",\n      \"properties\": {\n        \"dtype\": \"category\",\n        \"num_unique_values\": 1,\n        \"samples\": [\n          \"NO_QUERY\"\n        ],\n        \"semantic_type\": \"\",\n        \"description\": \"\"\n      }\n    },\n    {\n      \"column\": \"user\",\n      \"properties\": {\n        \"dtype\": \"string\",\n        \"num_unique_values\": 10,\n        \"samples\": [\n          \"loripluna\"\n        ],\n        \"semantic_type\": \"\",\n        \"description\": \"\"\n      }\n    },\n    {\n      \"column\": \"text\",\n      \"properties\": {\n        \"dtype\": \"string\",\n        \"num_unique_values\": 10,\n        \"samples\": [\n          \"At starbucks. About to go get my hair dyed. Summer blonde  it's only 1030am and already freaking hot\"\n        ],\n        \"semantic_type\": \"\",\n        \"description\": \"\"\n      }\n    },\n    {\n      \"column\": \"stemmed_content\",\n      \"properties\": {\n        \"dtype\": \"string\",\n        \"num_unique_values\": 10,\n        \"samples\": [\n          \"starbuck go get hair dy summer blond alreadi freak hot\"\n        ],\n        \"semantic_type\": \"\",\n        \"description\": \"\"\n      }\n    }\n  ]\n}"
            }
          },
          "metadata": {},
          "execution_count": 79
        }
      ],
      "source": [
        "data.sample(10)"
      ]
    },
    {
      "cell_type": "code",
      "execution_count": null,
      "metadata": {
        "colab": {
          "base_uri": "https://localhost:8080/"
        },
        "collapsed": true,
        "id": "6HtgLOQ9zWYt",
        "outputId": "b45afe68-6c28-40e1-87fc-e2ce574407c0"
      },
      "outputs": [
        {
          "output_type": "stream",
          "name": "stdout",
          "text": [
            "45009                            wish live america nicer leg\n",
            "1406657    loveandbooz oh least got rid horni kitti mayb ...\n",
            "689468     abbybradz miss tweet miss say horribl inapprop...\n",
            "596598                        call boyfriend sit school bore\n",
            "166656     offici done high school sad miss alreadi movi ...\n",
            "                                 ...                        \n",
            "1373460    love life stay late due nap took earlier manha...\n",
            "685217     final gave tri txt im wonder ladi crazi either...\n",
            "398688     drop iolau get check laptop bag feel sad empti...\n",
            "801993     way earli rather cold brighter side becki howa...\n",
            "1589579    cool first day weekend far watch ye man seven ...\n",
            "Name: stemmed_content, Length: 50000, dtype: object\n"
          ]
        }
      ],
      "source": [
        "print(data['stemmed_content'])"
      ]
    },
    {
      "cell_type": "code",
      "execution_count": null,
      "metadata": {
        "id": "PHWLhzOk0c54"
      },
      "outputs": [],
      "source": [
        "X = data['stemmed_content'].values\n",
        "Y = data['target'].values"
      ]
    },
    {
      "cell_type": "code",
      "execution_count": null,
      "metadata": {
        "colab": {
          "base_uri": "https://localhost:8080/"
        },
        "id": "7dhZY_2g2XPl",
        "outputId": "5c2ce085-fb30-4d0d-fbaa-96c82630c98d"
      },
      "outputs": [
        {
          "output_type": "stream",
          "name": "stdout",
          "text": [
            "['wish live america nicer leg'\n",
            " 'loveandbooz oh least got rid horni kitti mayb twitter find peep follow sure'\n",
            " 'abbybradz miss tweet miss say horribl inappropri thing irl' ...\n",
            " 'drop iolau get check laptop bag feel sad empti without'\n",
            " 'way earli rather cold brighter side becki howard go picnic today'\n",
            " 'cool first day weekend far watch ye man seven pound underworld rise lycan fun differ reason']\n"
          ]
        },
        {
          "output_type": "execute_result",
          "data": {
            "text/plain": [
              "array([0, 1, 0, ..., 0, 1, 1])"
            ]
          },
          "metadata": {},
          "execution_count": 82
        }
      ],
      "source": [
        "print(X)\n",
        "Y"
      ]
    },
    {
      "cell_type": "code",
      "execution_count": null,
      "metadata": {
        "id": "cmT00aXk2bsm"
      },
      "outputs": [],
      "source": [
        "# Splitting into train and test data\n",
        "X_train, X_test, Y_train, Y_test = train_test_split(X,Y, test_size = 0.2, stratify = Y, random_state = 2)\n",
        "# stratify to make sure equal proportion of data goes into training data and testing data i.e. 50-50\n",
        "# random state so that data is split in the same way for everyone"
      ]
    },
    {
      "cell_type": "code",
      "execution_count": null,
      "metadata": {
        "colab": {
          "base_uri": "https://localhost:8080/"
        },
        "id": "OnoOPDl_2mN2",
        "outputId": "22ec4b13-77a4-43aa-f721-5a9b67d1233e"
      },
      "outputs": [
        {
          "output_type": "stream",
          "name": "stdout",
          "text": [
            "(50000,) (40000,) (10000,)\n"
          ]
        }
      ],
      "source": [
        "print(X.shape,X_train.shape,X_test.shape)"
      ]
    },
    {
      "cell_type": "markdown",
      "metadata": {
        "id": "v9Y2pFP63qCt"
      },
      "source": [
        "Vectorization"
      ]
    },
    {
      "cell_type": "code",
      "execution_count": null,
      "metadata": {
        "id": "TqV2eoKG3th8"
      },
      "outputs": [],
      "source": [
        "vectorizer = TfidfVectorizer()\n",
        "#fitting and transforming training data\n",
        "X_train = vectorizer.fit_transform(X_train)\n",
        "X_test = vectorizer.transform(X_test)\n",
        "# gives importance to each word on the basis of whether it is a positive tweet or a negative tweet"
      ]
    },
    {
      "cell_type": "code",
      "execution_count": null,
      "metadata": {
        "colab": {
          "base_uri": "https://localhost:8080/"
        },
        "id": "3-HV2BsR5RLl",
        "outputId": "85986d3c-3327-4740-f0a5-4bf0194312bb"
      },
      "outputs": [
        {
          "output_type": "stream",
          "name": "stdout",
          "text": [
            "  (0, 39849)\t0.4153135183046337\n",
            "  (0, 25690)\t0.32466512985850454\n",
            "  (0, 37355)\t0.26255439025978616\n",
            "  (0, 36393)\t0.21576486089327096\n",
            "  (0, 5034)\t0.2974339528301754\n",
            "  (0, 3915)\t0.2795377484113281\n",
            "  (0, 24732)\t0.3328891418616861\n",
            "  (0, 34118)\t0.37119987499562673\n",
            "  (0, 23994)\t0.2023741350004067\n",
            "  (0, 1743)\t0.2641161432135873\n",
            "  (0, 14891)\t0.28406423085983024\n",
            "  (1, 26651)\t0.49408831588139057\n",
            "  (1, 36640)\t0.5080094974956592\n",
            "  (1, 14611)\t0.2546135908412706\n",
            "  (1, 32121)\t0.32714046687861276\n",
            "  (1, 40003)\t0.4548467089218962\n",
            "  (1, 15380)\t0.3450631713700785\n",
            "  (2, 32667)\t0.6412425761906152\n",
            "  (2, 16342)\t0.7673382295183937\n",
            "  (3, 15643)\t0.35381246409350386\n",
            "  (3, 2197)\t0.46235897146147353\n",
            "  (3, 25915)\t0.2322629366209899\n",
            "  (3, 13644)\t0.20218125656876737\n",
            "  (3, 33000)\t0.3857791413789623\n",
            "  (3, 9695)\t0.33884189840862056\n",
            "  :\t:\n",
            "  (39996, 12284)\t0.3181867508434171\n",
            "  (39996, 34476)\t0.35259085956516745\n",
            "  (39996, 1625)\t0.3381337006433575\n",
            "  (39997, 8649)\t0.5725311166249779\n",
            "  (39997, 3809)\t0.4577097730743838\n",
            "  (39997, 14775)\t0.4255602463316182\n",
            "  (39997, 38381)\t0.33717923348234796\n",
            "  (39997, 39171)\t0.22228993025915678\n",
            "  (39997, 11615)\t0.2512242575949323\n",
            "  (39997, 35916)\t0.2353552308321089\n",
            "  (39998, 27580)\t0.6617343551760415\n",
            "  (39998, 10684)\t0.4863176459028085\n",
            "  (39998, 14297)\t0.29849277670799607\n",
            "  (39998, 34291)\t0.4863176459028085\n",
            "  (39999, 36427)\t0.4705916341098473\n",
            "  (39999, 3155)\t0.32379719276808805\n",
            "  (39999, 32033)\t0.3483111771492751\n",
            "  (39999, 10268)\t0.3651808248011223\n",
            "  (39999, 36503)\t0.29143426227982633\n",
            "  (39999, 5839)\t0.2775973309585386\n",
            "  (39999, 1304)\t0.20055433855880198\n",
            "  (39999, 11615)\t0.19336663249842556\n",
            "  (39999, 35431)\t0.1949362467871354\n",
            "  (39999, 21597)\t0.20109566284701716\n",
            "  (39999, 33000)\t0.31776511819270004\n"
          ]
        }
      ],
      "source": [
        "print(X_train)"
      ]
    },
    {
      "cell_type": "code",
      "execution_count": null,
      "metadata": {
        "colab": {
          "base_uri": "https://localhost:8080/"
        },
        "id": "xAJ_jV0X5S-m",
        "outputId": "4efc9ffb-9098-45e1-8039-4a7496d37a87"
      },
      "outputs": [
        {
          "output_type": "stream",
          "name": "stdout",
          "text": [
            "  (0, 23715)\t0.7338242759038135\n",
            "  (0, 14494)\t0.5481184781129221\n",
            "  (0, 8351)\t0.40133286190569767\n",
            "  (1, 38980)\t0.35911760365762435\n",
            "  (1, 38736)\t0.3746646502662564\n",
            "  (1, 37025)\t0.34083647502683145\n",
            "  (1, 31181)\t0.4831709833628382\n",
            "  (1, 14611)\t0.2955791810256404\n",
            "  (1, 13538)\t0.19741908647626247\n",
            "  (1, 8351)\t0.210776178087826\n",
            "  (1, 3492)\t0.4585513052007594\n",
            "  (2, 29729)\t1.0\n",
            "  (3, 20360)\t0.8401622650524017\n",
            "  (3, 11845)\t0.30963016092572027\n",
            "  (3, 11827)\t0.2976120640294111\n",
            "  (3, 11167)\t0.33118513126540594\n",
            "  (4, 39281)\t0.3018592968693739\n",
            "  (4, 36006)\t0.2290435806336303\n",
            "  (4, 35702)\t0.1974696547406796\n",
            "  (4, 34962)\t0.32771371520101933\n",
            "  (4, 34280)\t0.2962255605561476\n",
            "  (4, 32297)\t0.23471472857164338\n",
            "  (4, 24963)\t0.43173277175980035\n",
            "  (4, 23661)\t0.2251339341733015\n",
            "  (4, 13644)\t0.36121156181391173\n",
            "  :\t:\n",
            "  (9995, 13211)\t0.22865882292801945\n",
            "  (9995, 8351)\t0.23055552464462672\n",
            "  (9996, 36888)\t0.33833444652522005\n",
            "  (9996, 35702)\t0.23572354825236574\n",
            "  (9996, 34912)\t0.6092142892444108\n",
            "  (9996, 21263)\t0.3530374205199017\n",
            "  (9996, 20264)\t0.43525218234837554\n",
            "  (9996, 14362)\t0.3804500996817393\n",
            "  (9997, 37791)\t0.33763830511402504\n",
            "  (9997, 35642)\t0.35032093050611984\n",
            "  (9997, 34835)\t0.4439887842240231\n",
            "  (9997, 24606)\t0.3637650551867953\n",
            "  (9997, 21462)\t0.21577477457685237\n",
            "  (9997, 20900)\t0.17723178137096307\n",
            "  (9997, 18968)\t0.2904179947726348\n",
            "  (9997, 11615)\t0.33774869920347694\n",
            "  (9997, 3452)\t0.3967844647970247\n",
            "  (9998, 38211)\t0.5167496900041569\n",
            "  (9998, 19347)\t0.4090681750552846\n",
            "  (9998, 11896)\t0.5180722476117092\n",
            "  (9998, 11845)\t0.5451918307275876\n",
            "  (9999, 32794)\t0.35042034396388005\n",
            "  (9999, 25796)\t0.8066579312886258\n",
            "  (9999, 14451)\t0.4137621096067132\n",
            "  (9999, 13211)\t0.23517967828703382\n"
          ]
        }
      ],
      "source": [
        "print(X_test)"
      ]
    },
    {
      "cell_type": "markdown",
      "metadata": {
        "id": "1v_z_SyY5myL"
      },
      "source": [
        "Training the ML Model"
      ]
    },
    {
      "cell_type": "code",
      "execution_count": null,
      "metadata": {
        "id": "vf24Omzu5qM5"
      },
      "outputs": [],
      "source": [
        "model = LogisticRegression(max_iter = 1000 )\n",
        "#max no of times the model goes through the data"
      ]
    },
    {
      "cell_type": "code",
      "execution_count": null,
      "metadata": {
        "colab": {
          "base_uri": "https://localhost:8080/",
          "height": 74
        },
        "id": "A6u5Z3c251y-",
        "outputId": "d217c04e-a789-4be4-ee17-d9c3f09417c1"
      },
      "outputs": [
        {
          "output_type": "execute_result",
          "data": {
            "text/plain": [
              "LogisticRegression(max_iter=1000)"
            ],
            "text/html": [
              "<style>#sk-container-id-2 {color: black;background-color: white;}#sk-container-id-2 pre{padding: 0;}#sk-container-id-2 div.sk-toggleable {background-color: white;}#sk-container-id-2 label.sk-toggleable__label {cursor: pointer;display: block;width: 100%;margin-bottom: 0;padding: 0.3em;box-sizing: border-box;text-align: center;}#sk-container-id-2 label.sk-toggleable__label-arrow:before {content: \"▸\";float: left;margin-right: 0.25em;color: #696969;}#sk-container-id-2 label.sk-toggleable__label-arrow:hover:before {color: black;}#sk-container-id-2 div.sk-estimator:hover label.sk-toggleable__label-arrow:before {color: black;}#sk-container-id-2 div.sk-toggleable__content {max-height: 0;max-width: 0;overflow: hidden;text-align: left;background-color: #f0f8ff;}#sk-container-id-2 div.sk-toggleable__content pre {margin: 0.2em;color: black;border-radius: 0.25em;background-color: #f0f8ff;}#sk-container-id-2 input.sk-toggleable__control:checked~div.sk-toggleable__content {max-height: 200px;max-width: 100%;overflow: auto;}#sk-container-id-2 input.sk-toggleable__control:checked~label.sk-toggleable__label-arrow:before {content: \"▾\";}#sk-container-id-2 div.sk-estimator input.sk-toggleable__control:checked~label.sk-toggleable__label {background-color: #d4ebff;}#sk-container-id-2 div.sk-label input.sk-toggleable__control:checked~label.sk-toggleable__label {background-color: #d4ebff;}#sk-container-id-2 input.sk-hidden--visually {border: 0;clip: rect(1px 1px 1px 1px);clip: rect(1px, 1px, 1px, 1px);height: 1px;margin: -1px;overflow: hidden;padding: 0;position: absolute;width: 1px;}#sk-container-id-2 div.sk-estimator {font-family: monospace;background-color: #f0f8ff;border: 1px dotted black;border-radius: 0.25em;box-sizing: border-box;margin-bottom: 0.5em;}#sk-container-id-2 div.sk-estimator:hover {background-color: #d4ebff;}#sk-container-id-2 div.sk-parallel-item::after {content: \"\";width: 100%;border-bottom: 1px solid gray;flex-grow: 1;}#sk-container-id-2 div.sk-label:hover label.sk-toggleable__label {background-color: #d4ebff;}#sk-container-id-2 div.sk-serial::before {content: \"\";position: absolute;border-left: 1px solid gray;box-sizing: border-box;top: 0;bottom: 0;left: 50%;z-index: 0;}#sk-container-id-2 div.sk-serial {display: flex;flex-direction: column;align-items: center;background-color: white;padding-right: 0.2em;padding-left: 0.2em;position: relative;}#sk-container-id-2 div.sk-item {position: relative;z-index: 1;}#sk-container-id-2 div.sk-parallel {display: flex;align-items: stretch;justify-content: center;background-color: white;position: relative;}#sk-container-id-2 div.sk-item::before, #sk-container-id-2 div.sk-parallel-item::before {content: \"\";position: absolute;border-left: 1px solid gray;box-sizing: border-box;top: 0;bottom: 0;left: 50%;z-index: -1;}#sk-container-id-2 div.sk-parallel-item {display: flex;flex-direction: column;z-index: 1;position: relative;background-color: white;}#sk-container-id-2 div.sk-parallel-item:first-child::after {align-self: flex-end;width: 50%;}#sk-container-id-2 div.sk-parallel-item:last-child::after {align-self: flex-start;width: 50%;}#sk-container-id-2 div.sk-parallel-item:only-child::after {width: 0;}#sk-container-id-2 div.sk-dashed-wrapped {border: 1px dashed gray;margin: 0 0.4em 0.5em 0.4em;box-sizing: border-box;padding-bottom: 0.4em;background-color: white;}#sk-container-id-2 div.sk-label label {font-family: monospace;font-weight: bold;display: inline-block;line-height: 1.2em;}#sk-container-id-2 div.sk-label-container {text-align: center;}#sk-container-id-2 div.sk-container {/* jupyter's `normalize.less` sets `[hidden] { display: none; }` but bootstrap.min.css set `[hidden] { display: none !important; }` so we also need the `!important` here to be able to override the default hidden behavior on the sphinx rendered scikit-learn.org. See: https://github.com/scikit-learn/scikit-learn/issues/21755 */display: inline-block !important;position: relative;}#sk-container-id-2 div.sk-text-repr-fallback {display: none;}</style><div id=\"sk-container-id-2\" class=\"sk-top-container\"><div class=\"sk-text-repr-fallback\"><pre>LogisticRegression(max_iter=1000)</pre><b>In a Jupyter environment, please rerun this cell to show the HTML representation or trust the notebook. <br />On GitHub, the HTML representation is unable to render, please try loading this page with nbviewer.org.</b></div><div class=\"sk-container\" hidden><div class=\"sk-item\"><div class=\"sk-estimator sk-toggleable\"><input class=\"sk-toggleable__control sk-hidden--visually\" id=\"sk-estimator-id-2\" type=\"checkbox\" checked><label for=\"sk-estimator-id-2\" class=\"sk-toggleable__label sk-toggleable__label-arrow\">LogisticRegression</label><div class=\"sk-toggleable__content\"><pre>LogisticRegression(max_iter=1000)</pre></div></div></div></div></div>"
            ]
          },
          "metadata": {},
          "execution_count": 89
        }
      ],
      "source": [
        "model.fit(X_train,Y_train)"
      ]
    },
    {
      "cell_type": "markdown",
      "metadata": {
        "id": "i0M0cCig6IMN"
      },
      "source": [
        "Model Evaluation"
      ]
    },
    {
      "cell_type": "code",
      "execution_count": null,
      "metadata": {
        "id": "I6WjZEmK7oOw"
      },
      "outputs": [],
      "source": [
        "acc_score_train = model.score(X_train,Y_train)"
      ]
    },
    {
      "cell_type": "code",
      "execution_count": null,
      "metadata": {
        "colab": {
          "base_uri": "https://localhost:8080/"
        },
        "id": "dtuE9Pma7wG4",
        "outputId": "df5580b5-943b-4c1b-df9a-858ceb371399"
      },
      "outputs": [
        {
          "output_type": "execute_result",
          "data": {
            "text/plain": [
              "0.83735"
            ]
          },
          "metadata": {},
          "execution_count": 91
        }
      ],
      "source": [
        "acc_score_train"
      ]
    },
    {
      "cell_type": "code",
      "execution_count": null,
      "metadata": {
        "id": "K-qyirJE6JX4"
      },
      "outputs": [],
      "source": [
        "acc_score_test = accuracy_score(Y_test, model.predict(X_test))"
      ]
    },
    {
      "cell_type": "code",
      "execution_count": null,
      "metadata": {
        "colab": {
          "base_uri": "https://localhost:8080/"
        },
        "id": "pzxGb_xp6Ojl",
        "outputId": "9cc00a72-7564-47c1-89f2-de7b54bd4ff7"
      },
      "outputs": [
        {
          "output_type": "execute_result",
          "data": {
            "text/plain": [
              "0.7486"
            ]
          },
          "metadata": {},
          "execution_count": 93
        }
      ],
      "source": [
        "acc_score_test"
      ]
    },
    {
      "cell_type": "code",
      "execution_count": null,
      "metadata": {
        "colab": {
          "base_uri": "https://localhost:8080/"
        },
        "id": "QorDuOCx-PqG",
        "outputId": "1c5bdc84-0e53-41d8-9acf-afabe64e7709"
      },
      "outputs": [
        {
          "output_type": "stream",
          "name": "stdout",
          "text": [
            "Negative tweet\n"
          ]
        }
      ],
      "source": [
        "str = ['Its bad! @user']\n",
        "x = model.predict(vectorizer.transform(str))\n",
        "if x[0] == 1:\n",
        "  print('Positive tweet')\n",
        "else:\n",
        "  print('Negative tweet')"
      ]
    },
    {
      "cell_type": "markdown",
      "metadata": {
        "id": "fqFwaGnE8w6o"
      },
      "source": [
        "Saving the Trained Model\n"
      ]
    },
    {
      "cell_type": "code",
      "execution_count": null,
      "metadata": {
        "id": "QTfYmxl86P3i"
      },
      "outputs": [],
      "source": [
        "import pickle"
      ]
    },
    {
      "cell_type": "code",
      "execution_count": null,
      "metadata": {
        "id": "HCT4hYGz8rWe"
      },
      "outputs": [],
      "source": [
        "file = 'trained.pkl'\n",
        "pickle.dump(model,open(file,'wb'))"
      ]
    },
    {
      "cell_type": "code",
      "execution_count": null,
      "metadata": {
        "id": "LUkm29rD87rj"
      },
      "outputs": [],
      "source": [
        "load_model = pickle.load(open('/content/trained.pkl','rb'))"
      ]
    },
    {
      "cell_type": "code",
      "execution_count": null,
      "metadata": {
        "id": "edNxwIaq9mbV"
      },
      "outputs": [],
      "source": [
        "X_new = X_test[200]"
      ]
    },
    {
      "cell_type": "code",
      "source": [],
      "metadata": {
        "id": "9S_RjCAsWYUs"
      },
      "execution_count": null,
      "outputs": []
    }
  ],
  "metadata": {
    "colab": {
      "provenance": []
    },
    "kernelspec": {
      "display_name": "Python 3",
      "name": "python3"
    },
    "language_info": {
      "name": "python"
    }
  },
  "nbformat": 4,
  "nbformat_minor": 0
}